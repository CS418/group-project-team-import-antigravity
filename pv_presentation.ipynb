{
 "cells": [
  {
   "cell_type": "code",
   "execution_count": 8,
   "metadata": {},
   "outputs": [
    {
     "data": {
      "text/html": [
       "<div>\n",
       "<style scoped>\n",
       "    .dataframe tbody tr th:only-of-type {\n",
       "        vertical-align: middle;\n",
       "    }\n",
       "\n",
       "    .dataframe tbody tr th {\n",
       "        vertical-align: top;\n",
       "    }\n",
       "\n",
       "    .dataframe thead th {\n",
       "        text-align: right;\n",
       "    }\n",
       "</style>\n",
       "<table border=\"1\" class=\"dataframe\">\n",
       "  <thead>\n",
       "    <tr style=\"text-align: right;\">\n",
       "      <th></th>\n",
       "      <th>raceId_x</th>\n",
       "      <th>driverId</th>\n",
       "      <th>stop</th>\n",
       "      <th>pit_lap</th>\n",
       "      <th>pit_time</th>\n",
       "      <th>duration</th>\n",
       "      <th>pit_ms</th>\n",
       "      <th>lap</th>\n",
       "      <th>position</th>\n",
       "      <th>time</th>\n",
       "      <th>milliseconds</th>\n",
       "    </tr>\n",
       "  </thead>\n",
       "  <tbody>\n",
       "    <tr>\n",
       "      <th>0</th>\n",
       "      <td>841</td>\n",
       "      <td>153</td>\n",
       "      <td>1</td>\n",
       "      <td>1</td>\n",
       "      <td>17:05:23</td>\n",
       "      <td>26.898</td>\n",
       "      <td>26898</td>\n",
       "      <td>1</td>\n",
       "      <td>21</td>\n",
       "      <td>2:13.879</td>\n",
       "      <td>133879</td>\n",
       "    </tr>\n",
       "    <tr>\n",
       "      <th>1</th>\n",
       "      <td>841</td>\n",
       "      <td>153</td>\n",
       "      <td>1</td>\n",
       "      <td>1</td>\n",
       "      <td>17:05:23</td>\n",
       "      <td>26.898</td>\n",
       "      <td>26898</td>\n",
       "      <td>2</td>\n",
       "      <td>21</td>\n",
       "      <td>1:40.659</td>\n",
       "      <td>100659</td>\n",
       "    </tr>\n",
       "    <tr>\n",
       "      <th>2</th>\n",
       "      <td>841</td>\n",
       "      <td>153</td>\n",
       "      <td>1</td>\n",
       "      <td>1</td>\n",
       "      <td>17:05:23</td>\n",
       "      <td>26.898</td>\n",
       "      <td>26898</td>\n",
       "      <td>3</td>\n",
       "      <td>21</td>\n",
       "      <td>1:33.293</td>\n",
       "      <td>93293</td>\n",
       "    </tr>\n",
       "    <tr>\n",
       "      <th>3</th>\n",
       "      <td>841</td>\n",
       "      <td>153</td>\n",
       "      <td>1</td>\n",
       "      <td>1</td>\n",
       "      <td>17:05:23</td>\n",
       "      <td>26.898</td>\n",
       "      <td>26898</td>\n",
       "      <td>4</td>\n",
       "      <td>21</td>\n",
       "      <td>1:33.144</td>\n",
       "      <td>93144</td>\n",
       "    </tr>\n",
       "    <tr>\n",
       "      <th>4</th>\n",
       "      <td>841</td>\n",
       "      <td>153</td>\n",
       "      <td>1</td>\n",
       "      <td>1</td>\n",
       "      <td>17:05:23</td>\n",
       "      <td>26.898</td>\n",
       "      <td>26898</td>\n",
       "      <td>5</td>\n",
       "      <td>21</td>\n",
       "      <td>1:33.320</td>\n",
       "      <td>93320</td>\n",
       "    </tr>\n",
       "  </tbody>\n",
       "</table>\n",
       "</div>"
      ],
      "text/plain": [
       "   raceId_x  driverId  stop  pit_lap  pit_time duration  pit_ms  lap  \\\n",
       "0       841       153     1        1  17:05:23   26.898   26898    1   \n",
       "1       841       153     1        1  17:05:23   26.898   26898    2   \n",
       "2       841       153     1        1  17:05:23   26.898   26898    3   \n",
       "3       841       153     1        1  17:05:23   26.898   26898    4   \n",
       "4       841       153     1        1  17:05:23   26.898   26898    5   \n",
       "\n",
       "   position      time  milliseconds  \n",
       "0        21  2:13.879        133879  \n",
       "1        21  1:40.659        100659  \n",
       "2        21  1:33.293         93293  \n",
       "3        21  1:33.144         93144  \n",
       "4        21  1:33.320         93320  "
      ]
     },
     "execution_count": 8,
     "metadata": {},
     "output_type": "execute_result"
    }
   ],
   "source": [
    "import pandas as pd\n",
    "import matplotlib.pyplot as plt\n",
    "from sklearn.model_selection import train_test_split\n",
    "from sklearn.linear_model import LinearRegression\n",
    "\n",
    "ptdf = pd.read_csv(\"data/pit_stops.csv\")\n",
    "lpdf = pd.read_csv(\"data/lap_times.csv\")\n",
    "\n",
    "ptdf.rename(columns = {'lap':'pit_lap', 'time':'pit_time', 'milliseconds':'pit_ms'}, inplace = True)\n",
    "df = pd.merge(ptdf, lpdf, on = 'driverId', how = 'inner')\n",
    "df.drop('raceId_y', axis = 1, inplace = True)\n",
    "df.head()"
   ]
  },
  {
   "cell_type": "markdown",
   "metadata": {},
   "source": [
    "We want to see if there is a correlation with pit stop times and lap times. I believe that we can truly see how important pit times are to winning lap times. In order to analyze a correlation, it would be best to merge the times together.We know that generations of racers and progression of technology can shorten both times, and this should still be present in our analysis.\n",
    "\n",
    "Because of the massive size of the database, we need to get a random sample in order to get a proper graph. We also need to normalize the data in order to accurately present the data. This is because each circuit has varying lap and pit times due to the many different types of courses. From the circuit's length, corners, to DRS zones of each course, we would need a way to effectively show how the two times would correlate."
   ]
  },
  {
   "cell_type": "code",
   "execution_count": 3,
   "metadata": {},
   "outputs": [
    {
     "data": {
      "text/plain": [
       "Text(0.5, 1.0, 'Normalized Laptimes & Pit Times Scatterplot')"
      ]
     },
     "execution_count": 3,
     "metadata": {},
     "output_type": "execute_result"
    },
    {
     "data": {
      "image/png": "[encoded data removed]",
      "text/plain": [
       "<Figure size 432x288 with 1 Axes>"
      ]
     },
     "metadata": {
      "needs_background": "light"
     },
     "output_type": "display_data"
    }
   ],
   "source": [
    "df_norm_pt = df['pit_ms']/df['pit_ms'].abs().max()\n",
    "df_norm_lp = df['milliseconds']/df['milliseconds'].abs().max()\n",
    "plt.scatter(df_norm_pt.sample(1500, random_state = 1), df_norm_pt.sample(1500, random_state = 1))\n",
    "plt.xlabel('Pit Times')\n",
    "plt.ylabel('Lap times')\n",
    "plt.title(\"Normalized Laptimes & Pit Times Scatterplot\")"
   ]
  },
  {
   "cell_type": "markdown",
   "metadata": {},
   "source": [
    "From the normalized graph, we can see that there is a positive linear relationship between pit times and lap times. This is also from the random samples that we generated from the dataframe. Now this is just a visual representation of a small group of races and drivers.\n",
    "\n",
    "Now lets take a deeper dive into the correlations. We have made variables for the normalized times and will use that for our correlation testing."
   ]
  },
  {
   "cell_type": "code",
   "execution_count": 21,
   "metadata": {},
   "outputs": [
    {
     "data": {
      "text/html": [
       "<div>\n",
       "<style scoped>\n",
       "    .dataframe tbody tr th:only-of-type {\n",
       "        vertical-align: middle;\n",
       "    }\n",
       "\n",
       "    .dataframe tbody tr th {\n",
       "        vertical-align: top;\n",
       "    }\n",
       "\n",
       "    .dataframe thead th {\n",
       "        text-align: right;\n",
       "    }\n",
       "</style>\n",
       "<table border=\"1\" class=\"dataframe\">\n",
       "  <thead>\n",
       "    <tr style=\"text-align: right;\">\n",
       "      <th></th>\n",
       "      <th>pit_ms</th>\n",
       "      <th>milliseconds</th>\n",
       "    </tr>\n",
       "  </thead>\n",
       "  <tbody>\n",
       "    <tr>\n",
       "      <th>pit_ms</th>\n",
       "      <td>1.000000</td>\n",
       "      <td>-0.005835</td>\n",
       "    </tr>\n",
       "    <tr>\n",
       "      <th>milliseconds</th>\n",
       "      <td>-0.005835</td>\n",
       "      <td>1.000000</td>\n",
       "    </tr>\n",
       "  </tbody>\n",
       "</table>\n",
       "</div>"
      ],
      "text/plain": [
       "                pit_ms  milliseconds\n",
       "pit_ms        1.000000     -0.005835\n",
       "milliseconds -0.005835      1.000000"
      ]
     },
     "execution_count": 21,
     "metadata": {},
     "output_type": "execute_result"
    }
   ],
   "source": [
    "#df_norm_times = pd.merge(df['pit_ms'], df['milliseconds'], right_index=True, left_index=True)\n",
    "df[['pit_ms','milliseconds']].sample(1500, random_state = 1).corr()"
   ]
  },
  {
   "cell_type": "markdown",
   "metadata": {},
   "source": [
    "From this, we can that there actually isn't a correlation between the two variables. To see this more, let's use the original, un-normalized variables from the same random sample. We also decided to set a boundry for the plot to remove outliers."
   ]
  },
  {
   "cell_type": "code",
   "execution_count": 16,
   "metadata": {},
   "outputs": [
    {
     "data": {
      "text/plain": [
       "(0, 500000)"
      ]
     },
     "execution_count": 16,
     "metadata": {},
     "output_type": "execute_result"
    },
    {
     "data": {
      "image/png": "[encoded data removed]",
      "text/plain": [
       "<Figure size 432x288 with 1 Axes>"
      ]
     },
     "metadata": {
      "needs_background": "light"
     },
     "output_type": "display_data"
    }
   ],
   "source": [
    "plt.scatter(df['pit_ms'].sample(1500, random_state = 1), df['milliseconds'].sample(1500, random_state = 1))\n",
    "plt.xlabel('Pit Times')\n",
    "plt.ylabel('Lap times')\n",
    "plt.title(\"Laptimes & Pit Times Scatterplot\")\n",
    "plt.xlim([0,100000])\n",
    "plt.ylim([0,500000])"
   ]
  },
  {
   "cell_type": "markdown",
   "metadata": {},
   "source": [
    "We can see that there is now no correlation between lap and pit times. Normalizing the data did not properly assess the two variables in finding a correlation. But using the corr function and using the base data, we can properly see that there is no correlation between teams and drivers pit times to lap times."
   ]
  },
  {
   "cell_type": "code",
   "execution_count": null,
   "metadata": {},
   "outputs": [],
   "source": []
  },
  {
   "cell_type": "markdown",
   "metadata": {},
   "source": [
    "# Sources\n",
    "\n",
    "1. https://www.geeksforgeeks.org/normalize-a-column-in-pandas/\n",
    "\n",
    "2. https://pandas.pydata.org/pandas-docs/stable/reference/api/pandas.DataFrame.corr.html\n",
    "\n",
    "3. https://sparkbyexamples.com/pandas/pandas-combine-two-series-into-dataframe/#:~:text=Combine%20Two%20Series%20Using%20pandas.&text=merge()%20can%20be%20used,True%2C%20left_index%3DTrue)%20."
   ]
  }
 ],
 "metadata": {
  "kernelspec": {
   "display_name": "Python 3.7.6 ('base')",
   "language": "python",
   "name": "python3"
  },
  "language_info": {
   "codemirror_mode": {
    "name": "ipython",
    "version": 3
   },
   "file_extension": ".py",
   "mimetype": "text/x-python",
   "name": "python",
   "nbconvert_exporter": "python",
   "pygments_lexer": "ipython3",
   "version": "3.7.6"
  },
  "orig_nbformat": 4,
  "vscode": {
   "interpreter": {
    "hash": "322c3157fe07831d3ea27d0967c5002b44c4d21fc81d6e58aed5f2d2eedbf06a"
   }
  }
 },
 "nbformat": 4,
 "nbformat_minor": 2
}
